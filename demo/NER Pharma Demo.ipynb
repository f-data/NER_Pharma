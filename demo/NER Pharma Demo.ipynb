{
 "cells": [
  {
   "cell_type": "code",
   "execution_count": 11,
   "metadata": {},
   "outputs": [],
   "source": [
    "import sys\n",
    "sys.path.append(\"..\")"
   ]
  },
  {
   "cell_type": "code",
   "execution_count": 16,
   "metadata": {},
   "outputs": [],
   "source": [
    "from nerpharma import PharmaEntitiesTagger, DrugEntitiesTagger"
   ]
  },
  {
   "cell_type": "code",
   "execution_count": 17,
   "metadata": {},
   "outputs": [],
   "source": [
    "pharma_keywords = [\"Pharma\", \"Pharmaceuticals\", \"Pharmaceutical\", \"Drugs\", \"Biotech\", \"Medical\", \"World\", \"Institute\", \"Health\", \"Medicare\", \"Oncology\", \"Medicine\", \"Medicines\", \"Labs\", \"Healthcare\", \"Laboratories\", \"Pharmacal\"]"
   ]
  },
  {
   "cell_type": "code",
   "execution_count": 19,
   "metadata": {},
   "outputs": [],
   "source": [
    "ENTITY_TAG = \"PH_ORG\"\n",
    "ENTITIES_DATASET = \"../datasets/entities/pharmaceutical-organizations/ph_entities.csv\"\n",
    "COUNTRIES_DATASET = \"../datasets/countries/countries_world.csv\"\n",
    "ENG_WORDS_DATASET = \"../datasets/eng-words/english_words_alpha.txt\"\n",
    "\n",
    "ph = PharmaEntitiesTagger(ENTITY_TAG, ENTITIES_DATASET, COUNTRIES_DATASET, ENG_WORDS_DATASET)"
   ]
  },
  {
   "cell_type": "code",
   "execution_count": 20,
   "metadata": {},
   "outputs": [],
   "source": [
    "ph.update_task_specific_keywords(pharma_keywords)"
   ]
  },
  {
   "cell_type": "code",
   "execution_count": 21,
   "metadata": {},
   "outputs": [],
   "source": [
    "contents = \"\"\"In a win for Daiichi Sankyo’s big pivot to oncology, the Japanese drugmaker has snatched its first U.S. cancer nod since 2011—and it’s also the first FDA-approved drug for a rare joint tumor.\n",
    "The FDA greenlighted Turalio, also known as pexidartinib, for adults with symptomatic tenosynovial giant cell tumor (TGCT) that are not suitable for surgery. It's one of seven new tumor-fighting therapies the company aims to win approval for by 2025.\n",
    "The OK marks Daiichi's first for an oncology drug it's selling solo—the company previously co-promoted BRAF inhibitor Zelboraf with Roche's Genentech—and it says its U.S. commercial team is ready to roll. Turalio will debut at a list price of $165 per 200-mg capsule, a Daiichi spokeswoman told FiercePharma.\n",
    "The launch won't be a typical cancer rollout, because it's not a tumor type most doctors see, the spokeswoman said. “Our job as we introduce this medicine is to ensure that we educate patients, prescribers and pharmacists about TGCT because the disease is not commonly known outside of sarcoma specialists,” she said.\n",
    "But a limited number of centers in the U.S. specialize in treating TGCT, she added, and many of them are already familiar with Turalio because they participated in its clinical trials. Daiichi's U.S. sales team has an average 14 years’ experience in oncology and rare diseases, she said.\n",
    "While the drug marks the first FDA-approved therapy for TGCT, it also bears a boxed warning for the risk of potentially fatal liver injury. Its use is allowed only through an FDA-designated safety program in which doctors must be certified to prescribe it.\n",
    "TGCT is a benign tumor that affects joints but can cause symptoms such as pain, stiffness and even disability. For some patients, the tumor can be removed through surgery, but for others, the tumor may intertwine with joint tissues in ways that render surgical resection detrimental. Turalio is meant for these difficult-to-treat TGCT cases.\n",
    "In a pivotal phase 3 study dubbed Enliven, 38% of the 61 patients on Turalio responded to their treatment at week 25, while none of the 59 patients on placebo experienced a meaningful tumor shrinkage. In a pooled long-term analysis of Enliven and a phase 1 trial, unveiled at the American Society of Clinical Oncology meeting in June, Turalio triggered a response rate of 53% in a total of 130 patients—including 30 control-group patients who crossed over to Turalio in the second phase of Enliven—after receiving the drug for a median of 17 months.\n",
    "Two serious liver injuries emerged in the Enliven study, causing Daiichi to halt enrollment in 2016. One patient died with advanced cancer and liver toxicity, and one patient had to undergo a liver transplant. \n",
    "Nevertheless, an independent FDA expert panel decided in May that a Risk Evaluation and Mitigation Strategy (REMS) program would help manage the drug’s liver dangers, voting 12 to 3 in favor of its approval. The FDA has now followed that advice with a boxed warning on Turalio's label and a REMS requirement.\n",
    "Turalio is one of seven novel drugs that will lead Daiichi’s refocus toward oncology as its top seller, high blood pressure drug Benicar, yields to generic competition. The new drug works by inhibiting colony stimulating factor-1 receptor (CSF1R) to stem the growth of abnormal cells. It isn’t alone in that field. Five Prime Therapeutics and partner Bristol-Myers Squibb are developing their own CSF1R inhibitor cabiralizumab in TGCT, along with several other tumor types with or without PD-1 inhibitor Opdivo.\n",
    "Turalio also inhibits FLT3-ITD, a target in which Daiichi recently suffered a blow. An application for Vanflyta, or quizartinib, to treat FLT3-ITD acute myeloid leukemia was recently rejected by the FDA after an advisory committee gave it a thumbs-down, mainly because of questions about its phase 3 trial design. Daiichi has said it’s evaluating the complete response letter to determine its next steps.\n",
    "That drug, which is aiming for Astellas’ recently approved Xospata and is also one of the seven oncology majors from Daiichi’s pipeline, was first approved in Japan in June and awaits a decision in the EU.\n",
    "Daiichi recently elevated its U.S. commercial chief, Ken Keller, to the role of president and CEO of Daiichi Sankyo's U.S. operation. “Close connection between our commercial and R&D organizations in the U.S. and globally will support the next phase of our transformation and growth as a science-based, patient-centered company with a primary focus on oncology,” he said back in February.\n",
    "\"\"\""
   ]
  },
  {
   "cell_type": "code",
   "execution_count": 23,
   "metadata": {},
   "outputs": [
    {
     "data": {
      "text/html": [
       "<div>\n",
       "<style scoped>\n",
       "    .dataframe tbody tr th:only-of-type {\n",
       "        vertical-align: middle;\n",
       "    }\n",
       "\n",
       "    .dataframe tbody tr th {\n",
       "        vertical-align: top;\n",
       "    }\n",
       "\n",
       "    .dataframe thead th {\n",
       "        text-align: right;\n",
       "    }\n",
       "</style>\n",
       "<table border=\"1\" class=\"dataframe\">\n",
       "  <thead>\n",
       "    <tr style=\"text-align: right;\">\n",
       "      <th></th>\n",
       "      <th>token</th>\n",
       "      <th>range</th>\n",
       "    </tr>\n",
       "  </thead>\n",
       "  <tbody>\n",
       "    <tr>\n",
       "      <th>8</th>\n",
       "      <td>Daiichi Sankyo</td>\n",
       "      <td>13:27</td>\n",
       "    </tr>\n",
       "    <tr>\n",
       "      <th>161</th>\n",
       "      <td>Daiichi</td>\n",
       "      <td>456:463</td>\n",
       "    </tr>\n",
       "    <tr>\n",
       "      <th>249</th>\n",
       "      <td>Daiichi</td>\n",
       "      <td>713:720</td>\n",
       "    </tr>\n",
       "    <tr>\n",
       "      <th>434</th>\n",
       "      <td>Daiichi</td>\n",
       "      <td>1255:1262</td>\n",
       "    </tr>\n",
       "    <tr>\n",
       "      <th>886</th>\n",
       "      <td>Daiichi</td>\n",
       "      <td>2572:2579</td>\n",
       "    </tr>\n",
       "    <tr>\n",
       "      <th>1066</th>\n",
       "      <td>Daiichi</td>\n",
       "      <td>3078:3085</td>\n",
       "    </tr>\n",
       "    <tr>\n",
       "      <th>1093</th>\n",
       "      <td>Benicar</td>\n",
       "      <td>3156:3163</td>\n",
       "    </tr>\n",
       "    <tr>\n",
       "      <th>1166</th>\n",
       "      <td>Bristol-Myers Squibb</td>\n",
       "      <td>3378:3398</td>\n",
       "    </tr>\n",
       "    <tr>\n",
       "      <th>1230</th>\n",
       "      <td>Daiichi</td>\n",
       "      <td>3589:3596</td>\n",
       "    </tr>\n",
       "    <tr>\n",
       "      <th>1315</th>\n",
       "      <td>Daiichi</td>\n",
       "      <td>3853:3860</td>\n",
       "    </tr>\n",
       "    <tr>\n",
       "      <th>1358</th>\n",
       "      <td>Astellas</td>\n",
       "      <td>3975:3983</td>\n",
       "    </tr>\n",
       "    <tr>\n",
       "      <th>1387</th>\n",
       "      <td>Daiichi</td>\n",
       "      <td>4061:4068</td>\n",
       "    </tr>\n",
       "    <tr>\n",
       "      <th>1422</th>\n",
       "      <td>Daiichi</td>\n",
       "      <td>4150:4157</td>\n",
       "    </tr>\n",
       "    <tr>\n",
       "      <th>1440</th>\n",
       "      <td>Keller</td>\n",
       "      <td>4207:4213</td>\n",
       "    </tr>\n",
       "    <tr>\n",
       "      <th>1459</th>\n",
       "      <td>Daiichi Sankyo</td>\n",
       "      <td>4251:4265</td>\n",
       "    </tr>\n",
       "  </tbody>\n",
       "</table>\n",
       "</div>"
      ],
      "text/plain": [
       "                     token      range\n",
       "8           Daiichi Sankyo      13:27\n",
       "161                Daiichi    456:463\n",
       "249                Daiichi    713:720\n",
       "434                Daiichi  1255:1262\n",
       "886                Daiichi  2572:2579\n",
       "1066               Daiichi  3078:3085\n",
       "1093               Benicar  3156:3163\n",
       "1166  Bristol-Myers Squibb  3378:3398\n",
       "1230               Daiichi  3589:3596\n",
       "1315               Daiichi  3853:3860\n",
       "1358              Astellas  3975:3983\n",
       "1387               Daiichi  4061:4068\n",
       "1422               Daiichi  4150:4157\n",
       "1440                Keller  4207:4213\n",
       "1459        Daiichi Sankyo  4251:4265"
      ]
     },
     "execution_count": 23,
     "metadata": {},
     "output_type": "execute_result"
    }
   ],
   "source": [
    "ph.tokenize_full_text(contents)"
   ]
  },
  {
   "cell_type": "code",
   "execution_count": null,
   "metadata": {},
   "outputs": [],
   "source": []
  }
 ],
 "metadata": {
  "kernelspec": {
   "display_name": "Python 3",
   "language": "python",
   "name": "python3"
  },
  "language_info": {
   "codemirror_mode": {
    "name": "ipython",
    "version": 3
   },
   "file_extension": ".py",
   "mimetype": "text/x-python",
   "name": "python",
   "nbconvert_exporter": "python",
   "pygments_lexer": "ipython3",
   "version": "3.7.3"
  }
 },
 "nbformat": 4,
 "nbformat_minor": 2
}
